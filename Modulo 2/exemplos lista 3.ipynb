{
 "cells": [
  {
   "cell_type": "markdown",
   "id": "cf683d96",
   "metadata": {},
   "source": [
    "### Produto mais vendido no arquivo\n",
    "Comumente precisamos lidar com informações que já foram armazenadas em outros locais antes da execução do programa, como uma planilha do excel, de forma a fazer algum processamento com estas informações. Digamos, por exemplo, que uma empresa tenha armazenado dados sobre as vendas dos últimos 5 anos e queira saber a média anual dessas vendas. Podemos acessar estes dados por meio da leitura de arquivos no python para, posteriormente, realizar o cálculo da média. Similarmente, também podemos salvar informações em arquivos no Python para acesso futuro. Utilizando o mesmo exemplo do histórico de vendas, podemos realizar os cálculos de média anual e salvá-lo em um arquivo para enviar para o gerente de vendas.\n",
    "\n",
    "Sabendo disso, crie uma função produto_mais_vendido() para ler um arquivo csv com as vendas de uma loja e retornar o nome do produto mais vendido (em termos de quantidades de vendas) conforme registrado no arquivo. A função receberá diretamente a string lida de um arquivo csv que usa \", \" como separador. No arquivo, temos as seguintes colunas: data, produto, quantidade, valor."
   ]
  },
  {
   "cell_type": "code",
   "execution_count": 47,
   "id": "de4a84f1",
   "metadata": {},
   "outputs": [
    {
     "data": {
      "text/plain": [
       "'prato'"
      ]
     },
     "execution_count": 47,
     "metadata": {},
     "output_type": "execute_result"
    }
   ],
   "source": [
    "vendas = \"data, produto, quantidade, valor\\n20/10/2022, prato, 15, 20.00\\n19/20/2022, copo, 5, 5\\n07/07/2022, lampada, 3, 68.90\"\n",
    "def produto_mais_vendido(vendas):\n",
    "    vendas = vendas.replace(\" \",\"\")\n",
    "    aux = []\n",
    "    for i in vendas.split(\"\\n\"):\n",
    "        aux.append(i.split(\",\"))\n",
    "    nomes = (i[1] for i in aux[1:])\n",
    "    qtd = (i[2] for i in aux[1:])\n",
    "    dicionario = {key:value for key,value in list(zip(nomes, qtd))}\n",
    "    aux = 0\n",
    "    key = \"\"\n",
    "    for k,v in dicionario.items():\n",
    "        if int(v)>aux:\n",
    "            aux = int(v)\n",
    "            key=k\n",
    "    return key\n",
    "\n",
    "produto_mais_vendido(vendas)"
   ]
  },
  {
   "cell_type": "code",
   "execution_count": null,
   "metadata": {},
   "outputs": [],
   "source": [
    "def produto_mais_vendido(vendas):\n",
    "\tlista = []\n",
    "\tfor i in vendas.split('\\n'):\n",
    "\t\tlista.append(i.split(','))\n",
    "\tproduto = [i[1].strip() for i in lista[1:]]\n",
    "\tquantidade = [int(i[2]) for i in lista[1:]]\n",
    "\tdicionario = dict(zip(produto,quantidade))\n",
    "\treturn max(dicionario, key=dicionario.get)\n",
    "\t\n",
    "\t\n",
    "\t\n",
    "print(produto_mais_vendido(\"data, produto, quantidade, valor\\n20/10/2022, prato, 15, 20.00\\n19/20/2022, copo, 25, 5\\n07/07/2022, lampada, 53, 68.90\"))\n",
    "print(produto_mais_vendido(\"data, produto, quantidade, valor\\n10/10/2021, ventilador, 32, 120.00\\n19/10/2021, cadeira, 20, 335.55\\n07/07/2022, lampada, 7, 68.90\"))"
   ]
  },
  {
   "cell_type": "markdown",
   "id": "8a0409e2",
   "metadata": {},
   "source": [
    "### Total de vendas a partir de dados em arquivo\n",
    "Comumente precisamos lidar com informações que já foram armazenadas em outros locais antes da execução do programa, como uma planilha do excel, de forma a fazer algum processamento com estas informações. Digamos, por exemplo, que uma empresa tenha armazenado dados sobre as vendas dos últimos 5 anos e queira saber a média anual dessas vendas. Podemos acessar estes dados por meio da leitura de arquivos no python para, posteriormente, realizar o cálculo da média. Similarmente, também podemos salvar informações em arquivos no Python para acesso futuro. Utilizando o mesmo exemplo do histórico de vendas, podemos realizar os cálculos de média anual e salvá-lo em um arquivo para enviar para o gerente de vendas.\n",
    "\n",
    "Sabendo disso, crie uma função media_vendas() para ler um arquivo csv e retornar o total de vendas no período. A função receberá diretamente a string lida de um arquivo csv que usa \", \" como separador. No arquivo, temos as seguintes colunas: data, produto, quantidade, valor. Note que a coluna \"valor\" corresponde ao preço unitário de cada produto, não o valor total da compra. Nosso objetivo é calcular o total de vendas, considerando todos os produtos registrados no arquivo.\n",
    "\n",
    "Obs.: arredonde a resposta final para duas casas decimais."
   ]
  },
  {
   "cell_type": "code",
   "execution_count": 50,
   "id": "ea705d9b",
   "metadata": {},
   "outputs": [
    {
     "name": "stdout",
     "output_type": "stream",
     "text": [
      "['data', 'produto', 'quantidade', 'valor']\n",
      "['20/10/2022', 'prato', '15', '20.00']\n",
      "['19/20/2022', 'copo', '5', '5']\n",
      "['07/07/2022', 'lampada', '3', '68.90']\n"
     ]
    }
   ],
   "source": [
    "# media_vendas()\n",
    "# import csv\n",
    "\n",
    "# with open('vendas.csv', newline='') as csvfile:\n",
    "#     spamreader = csv.reader(csvfile)\n",
    "#     for row in spamreader:        \n",
    "#         print(row)"
   ]
  },
  {
   "cell_type": "code",
   "execution_count": 62,
   "id": "56dec915",
   "metadata": {},
   "outputs": [
    {
     "data": {
      "text/plain": [
       "662.25"
      ]
     },
     "execution_count": 62,
     "metadata": {},
     "output_type": "execute_result"
    }
   ],
   "source": [
    "vendas = \"data, produto, quantidade, valor\\n20/10/2022, ventilador, 1, 120.00\\n19/20/2022, cadeira, 1, 335.55\\n07/07/2022, lampada, 3, 68.90\"\n",
    "\n",
    "def media_vendas(vendas):\n",
    "    vendas = vendas.replace(\" \",\"\")\n",
    "    aux = []\n",
    "    for i in vendas.split(\"\\n\"):\n",
    "        aux.append(i.split(\",\"))\n",
    "    nomes = (i[1] for i in aux[1:])\n",
    "    qtd = [int(i[2]) for i in aux[1:]]\n",
    "    preco = [float(i[3]) for i in aux[1:]]\n",
    "    receita = (qtd[i]*preco[i] for i in range(len(qtd)))\n",
    "    return sum(receita)\n",
    "\n",
    "media_vendas(vendas)"
   ]
  },
  {
   "cell_type": "code",
   "execution_count": null,
   "id": "9a14f5b9",
   "metadata": {},
   "outputs": [],
   "source": [
    "def media_vendas(vendas):\n",
    "\tlista = []\n",
    "\tfor i in vendas.split('\\n'):\n",
    "\t\tlista.append(i.split(','))\n",
    "\tvalor = [(int(i[2]) * float(i[3])) for i in lista[1:]]\n",
    "\treturn sum(valor)\n",
    "\t\n",
    "print(media_vendas(\"data, produto, quantidade, valor\\n20/10/2022, ventilador, 1, 120.00\\n19/20/2022, cadeira, 1, 335.55\\n07/07/2022, lampada, 3, 68.90\"))"
   ]
  }
 ],
 "metadata": {
  "kernelspec": {
   "display_name": "Python 3 (ipykernel)",
   "language": "python",
   "name": "python3"
  },
  "language_info": {
   "codemirror_mode": {
    "name": "ipython",
    "version": 3
   },
   "file_extension": ".py",
   "mimetype": "text/x-python",
   "name": "python",
   "nbconvert_exporter": "python",
   "pygments_lexer": "ipython3",
   "version": "3.9.12"
  }
 },
 "nbformat": 4,
 "nbformat_minor": 5
}
